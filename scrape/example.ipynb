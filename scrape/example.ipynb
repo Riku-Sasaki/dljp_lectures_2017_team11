{
 "cells": [
  {
   "cell_type": "code",
   "execution_count": 1,
   "metadata": {
    "collapsed": true
   },
   "outputs": [],
   "source": [
    "import json"
   ]
  },
  {
   "cell_type": "code",
   "execution_count": 5,
   "metadata": {
    "collapsed": true
   },
   "outputs": [],
   "source": [
    "meta_path = 'data/image_data.json'   # path to image_data.json"
   ]
  },
  {
   "cell_type": "code",
   "execution_count": 3,
   "metadata": {
    "collapsed": true
   },
   "outputs": [],
   "source": [
    "with open(meta_path, 'r') as f:\n",
    "    image_data = json.load(f)"
   ]
  },
  {
   "cell_type": "code",
   "execution_count": 4,
   "metadata": {},
   "outputs": [
    {
     "data": {
      "text/plain": [
       "{'category': ['お風呂', '道具'],\n",
       " 'desc': '洗面器の中に水やお湯が入れられているイラストです。',\n",
       " 'image_url': 'http://3.bp.blogspot.com/-Sg9VCmfS6oM/WerK_d3MAjI/AAAAAAABHsI/EQP1PpFYrogSO4mgm159bmDfoVkYTuwwgCLcBGAs/s800/ofuro_sentaku_senmenki_water.png',\n",
       " 'page_url': 'http://www.irasutoya.com/2017/11/blog-post_270.html',\n",
       " 'save_name': 'images/1.png',\n",
       " 'title': '水を張った洗面器のイラスト'}"
      ]
     },
     "execution_count": 4,
     "metadata": {},
     "output_type": "execute_result"
    }
   ],
   "source": [
    "image_data[0]"
   ]
  },
  {
   "cell_type": "code",
   "execution_count": null,
   "metadata": {
    "collapsed": true
   },
   "outputs": [],
   "source": []
  }
 ],
 "metadata": {
  "kernelspec": {
   "display_name": "Python 3",
   "language": "python",
   "name": "python3"
  },
  "language_info": {
   "codemirror_mode": {
    "name": "ipython",
    "version": 3
   },
   "file_extension": ".py",
   "mimetype": "text/x-python",
   "name": "python",
   "nbconvert_exporter": "python",
   "pygments_lexer": "ipython3",
   "version": "3.6.2"
  }
 },
 "nbformat": 4,
 "nbformat_minor": 2
}
